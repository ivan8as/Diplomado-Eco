{
 "cells": [
  {
   "cell_type": "markdown",
   "metadata": {
    "slideshow": {
     "slide_type": "slide"
    }
   },
   "source": [
    "# Índice de Educación para el municipio de León, Guanajuato"
   ]
  },
  {
   "cell_type": "markdown",
   "metadata": {
    "slideshow": {
     "slide_type": "slide"
    }
   },
   "source": [
    "## PNUD"
   ]
  },
  {
   "cell_type": "markdown",
   "metadata": {
    "slideshow": {
     "slide_type": "subslide"
    }
   },
   "source": [
    "El Programa de las Naciones Unidas para el Desarrollo es el organismo mundial de las Naciones Unidas en materia de desarrollo que promueve el cambio y conecta a los países con los conocimientos, la experiencia y los recursos necesarios para ayudar a los pueblos a forjar una vida mejor.\n",
    "![alt text][logo]\n",
    "\n",
    "[logo]: https://onu.org.gt/wp-content/uploads/2015/11/PNUD.png\n",
    "\n",
    "Está presente en unos 170 países y territorios, al apoyar sus propias soluciones ante los desafíos relativos al desarrollo y al crear capacidades a nivel nacional y local, que les ayudarán a lograr el desarrollo humano y los Objetivos de Desarrollo Sostenible. Nuestro trabajo se enfoca en tres áreas principales:\n",
    "\n",
    "* Desarrollo sostenible.\n",
    "* Gobernabilidad democrática y consolidación de la paz.\n",
    "* Resiliencia ante el clima y los desastres.\n",
    "\n",
    "El PNUD ayuda a los países a obtener y utilizar la asistencia efectivamente. En todas sus actividades, promueven la igualdad de género y la protección de los derechos humanos.\n",
    "\n",
    "El Índice de Desarrollo Humano (IDH) se creó para hacer hincapié en que la ampliación de las oportunidades de las personas debería ser el criterio más importante para evaluar los resultados en materia de desarrollo. El crecimiento económico es un medio que contribuye a ese proceso, pero no es un objetivo en sí mismo.\n",
    "\n",
    "El IDH mide el progreso conseguido por un país en tres dimensiones básicas del desarrollo humano: disfrutar de una vida larga y saludable, acceso a educación y nivel de vida digno. Por lo tanto el IDH se conforma de tres indices:\n",
    "\n",
    "* Índice de Salud\n",
    "* Índice de Educación\n",
    "* Índice de Ingreso"
   ]
  },
  {
   "cell_type": "markdown",
   "metadata": {
    "slideshow": {
     "slide_type": "slide"
    }
   },
   "source": [
    "## León, Guanajuato"
   ]
  },
  {
   "cell_type": "markdown",
   "metadata": {
    "slideshow": {
     "slide_type": "subslide"
    }
   },
   "source": [
    "![alt text][leon]\n",
    "\n",
    "[leon]: https://www.implan.gob.mx/images/Logo_Ppresidencia_2015-2018-01.png\n",
    "\n",
    "León, oficialmente León de Los Aldama, también conocida como la Perla y Motor del Bajío o la Capital Mundial del Calzado, es una ciudad mexicana, cabecera del municipio homónimo, ubicada en el Estado de Guanajuato. La zona metropolitana de León cuenta con poco más de 2,115,000 habitantes en 2019, solo la ciudad de León cuenta con 1,800,000 habitantes lo que la convierte en la localidad más poblada del estado y la séptima más poblada del país. Se encuentra a 384 km de la capital del país, la Ciudad de México. La ciudad está entre las 5 ciudades más importantes de México, junto con la Ciudad de México, Guadalajara, Monterrey y Puebla, así como también es la ciudad más grande e importante de el Bajío.\n",
    "\n",
    "Esta localidad forma parte del Área Metropolitana de León que aunque aún no estén juntas del todo las ciudades que forman el área metropolitana de León, la mayor economía se concentra en Leon (Silao de la Victoria, San Francisco del Rincón, Purísima del Rincón), conforma la séptima metrópoli más grande del país y la mayor de la macro región del Bajío, con poco más de 2,115,000 habitantes.\n",
    "\n",
    "Fue fundada el 20 de enero de 1576 por Martín Enríquez de Almansa bajo el nombre de Villa de León, recibió su nombre actual en 1830 en honor a los insurgentes Juan Aldama e Ignacio Aldama, quienes participaron en la guerra de Independencia de México. Desde la década de los años 40 del siglo XX, la economía de la ciudad ha girado básicamente alrededor de la cadena productiva del cuero, calzado, proveeduría y marroquinería —por eso se la llama La Capital Mundial del Calzado—, aunque para inicios del siglo XXI, comienza a reorientar su economía a los servicios y la industria automotriz.\n",
    "\n",
    "Este lugar, está consolidando otras vocaciones económicas: la atención de la salud de alta especialidad y diagnóstico, la educación superior y la investigación, así como el turismo de negocios. Pese a que no es la capital política del estado, se le considera la capital económica, social, comercial y de servicios."
   ]
  },
  {
   "cell_type": "markdown",
   "metadata": {
    "slideshow": {
     "slide_type": "slide"
    }
   },
   "source": [
    "### Índice de Desarrollo Humano municipal en León"
   ]
  },
  {
   "cell_type": "markdown",
   "metadata": {
    "slideshow": {
     "slide_type": "subslide"
    }
   },
   "source": [
    "Se levantó una encuesta por parte de los alumnos de la Licenciatura en Economía en algunas colonias marginadas representativas de la ciudad de León que pretende tener la información para calcular en Índice de Desarrollo Humano de estas colonias.\n",
    "\n",
    "Esta encuesta busca obtener datos para poder obtener diversos indicadores de desarrollo multidimensionales, entre ellos el Índice de Desarrollo Humano.\n",
    "\n",
    "**Como parte del Diplomado en Economía Aplicada** utilicé esta encuesta para calcular el Índice de Educación que es parte del Índice de Desarrollo Humano. Este indice se define como:\n",
    "\n",
    "<br>\n",
    "<center>$(\\frac{2}{3})\\frac{Población Alfabeta De 15 años Y Más}{Población De 15 Años Y más}+(\\frac{1}{3})\\frac{Población De 6 a 24 Años Escolarizada}{Población de 6 a 24 años}$</center>\n",
    "<br>\n",
    "Para el cálcuo de este índice se utiliza el software estadístico R. La base de datos contiene los años de educación de los abuelos, los padres y los hijos de las familias encuestadas.\n",
    "Dado a que la información recabada en la encuesta no es lo suficientemente detallada para calcular el índice de manera literal, tuve que hacer ciertos supuestos en la información para poder obtener una buena aproximación al índice. \n",
    "\n",
    "Los supuestos son los siguientes:\n",
    "\n",
    "* Se considera alfabetizado al Abuelo y Padre con uno o más años de educación\n",
    "* Se considera mayor de 15 años, aquello hijos que tengan 9 o más años de educación, ya que se asume que la educación comienza a los seis años\n",
    "* Todos los hijos se consideran que tienen entre 6 y 24 años\n",
    "* Cuando no se muestra los años de educación con un NA, se considera que siguen asistiendo a la escuela"
   ]
  },
  {
   "cell_type": "markdown",
   "metadata": {
    "slideshow": {
     "slide_type": "slide"
    }
   },
   "source": [
    "# Código de R"
   ]
  },
  {
   "cell_type": "code",
   "execution_count": 9,
   "metadata": {
    "slideshow": {
     "slide_type": "subslide"
    }
   },
   "outputs": [
    {
     "name": "stdout",
     "output_type": "stream",
     "text": [
      "[1] \"Poblacion Alfabetizada mayor a 15 años: \"\n"
     ]
    },
    {
     "data": {
      "text/html": [
       "175"
      ],
      "text/latex": [
       "175"
      ],
      "text/markdown": [
       "175"
      ],
      "text/plain": [
       "[1] 175"
      ]
     },
     "metadata": {},
     "output_type": "display_data"
    },
    {
     "name": "stdout",
     "output_type": "stream",
     "text": [
      "[1] \"Poblacion mayor a 15 años: \"\n"
     ]
    },
    {
     "data": {
      "text/html": [
       "296"
      ],
      "text/latex": [
       "296"
      ],
      "text/markdown": [
       "296"
      ],
      "text/plain": [
       "[1] 296"
      ]
     },
     "metadata": {},
     "output_type": "display_data"
    },
    {
     "name": "stdout",
     "output_type": "stream",
     "text": [
      "[1] \"Poblacion que asiste a la escuela: \"\n"
     ]
    },
    {
     "data": {
      "text/html": [
       "64"
      ],
      "text/latex": [
       "64"
      ],
      "text/markdown": [
       "64"
      ],
      "text/plain": [
       "[1] 64"
      ]
     },
     "metadata": {},
     "output_type": "display_data"
    },
    {
     "name": "stdout",
     "output_type": "stream",
     "text": [
      "[1] \"Poblacion de 6 a 24 años: \"\n"
     ]
    },
    {
     "data": {
      "text/html": [
       "134"
      ],
      "text/latex": [
       "134"
      ],
      "text/markdown": [
       "134"
      ],
      "text/plain": [
       "[1] 134"
      ]
     },
     "metadata": {},
     "output_type": "display_data"
    },
    {
     "name": "stdout",
     "output_type": "stream",
     "text": [
      "[1] \"Indice de alfabetización de Adultos:\"\n"
     ]
    },
    {
     "data": {
      "text/html": [
       "0.591216216216216"
      ],
      "text/latex": [
       "0.591216216216216"
      ],
      "text/markdown": [
       "0.591216216216216"
      ],
      "text/plain": [
       "[1] 0.5912162"
      ]
     },
     "metadata": {},
     "output_type": "display_data"
    },
    {
     "name": "stdout",
     "output_type": "stream",
     "text": [
      "[1] \"Indice de asistencia escolar: \"\n"
     ]
    },
    {
     "data": {
      "text/html": [
       "0.477611940298507"
      ],
      "text/latex": [
       "0.477611940298507"
      ],
      "text/markdown": [
       "0.477611940298507"
      ],
      "text/plain": [
       "[1] 0.4776119"
      ]
     },
     "metadata": {},
     "output_type": "display_data"
    },
    {
     "name": "stdout",
     "output_type": "stream",
     "text": [
      "[1] \"Indice de Educación: \"\n"
     ]
    },
    {
     "data": {
      "text/html": [
       "0.553348124243647"
      ],
      "text/latex": [
       "0.553348124243647"
      ],
      "text/markdown": [
       "0.553348124243647"
      ],
      "text/plain": [
       "[1] 0.5533481"
      ]
     },
     "metadata": {},
     "output_type": "display_data"
    }
   ],
   "source": [
    "d<-read.csv(\"Leon.csv\",header=T)\n",
    "#poblacion mayor a quince años alfabetizada\n",
    "pob_alf=0\n",
    "for (i in 1:134){\n",
    "  if (d[i,102]>=1){\n",
    "    pob_alf=pob_alf+1\n",
    "  }\n",
    "  if (d[i,103]>=1){\n",
    "    pob_alf=pob_alf+1\n",
    "  }\n",
    "  if (!is.na(d[i,104])){\n",
    "    if (as.numeric(d[i,104])>=9){\n",
    "      pob_alf=pob_alf+1\n",
    "    }\n",
    "  }\n",
    "}\n",
    "print(\"Poblacion Alfabetizada mayor a 15 años: \")\n",
    "pob_alf\n",
    "#Poblacion mayor a quince años\n",
    "pob_15=0\n",
    "for (i in 1:134){\n",
    "  if (d[i,102]>=0){\n",
    "    pob_15=pob_15+1\n",
    "}\n",
    "  if (d[i,103]>=0){\n",
    "    pob_15=pob_15+1\n",
    "  }\n",
    "  if (!is.na(d[i,104])){\n",
    "    if (as.numeric(d[i,104])>=9){\n",
    "      pob_15=pob_15+1\n",
    "    }\n",
    "  }\n",
    "}\n",
    "print(\"Poblacion mayor a 15 años: \")\n",
    "pob_15\n",
    "\n",
    "#poblacion que asiste a la escuela\n",
    "pob_esc=0\n",
    "for (i in 1:134){\n",
    "  if (is.na(d[i,104])){\n",
    "    pob_esc=pob_esc+1\n",
    "  }\n",
    "}\n",
    "print(\"Poblacion que asiste a la escuela: \")\n",
    "pob_esc\n",
    "\n",
    "#población de hijos\n",
    "pob6_24=134\n",
    "print(\"Poblacion de 6 a 24 años: \")\n",
    "pob6_24\n",
    "\n",
    "#Indice de alfabetización de Adultos\n",
    "print(\"Indice de alfabetización de Adultos:\")\n",
    "IAA=pob_alf/pob_15\n",
    "IAA\n",
    "\n",
    "#Indice de asistencia escolar\n",
    "print(\"Indice de asistencia escolar: \")\n",
    "IAE=pob_esc/pob6_24\n",
    "IAE\n",
    "\n",
    "#indice de educacion\n",
    "index=(2/3)*IAA+(1/3)*IAE\n",
    "print(\"Indice de Educación: \")\n",
    "index\n"
   ]
  },
  {
   "cell_type": "markdown",
   "metadata": {
    "slideshow": {
     "slide_type": "slide"
    }
   },
   "source": [
    "# Conclusión"
   ]
  },
  {
   "cell_type": "markdown",
   "metadata": {
    "slideshow": {
     "slide_type": "subslide"
    }
   },
   "source": [
    "En 2010, el PNUD publicó el Índice de Desarrollo Humano Municipal de México. El nivel de desarrollo humano del Estado de Guanajuato se calcula mediante los logros de la entidad, en salud (0.852),\n",
    "educación (0.611) e ingreso (0.693), alcanzados en relación con los parámetros observados a nivel internacional.\n",
    "El resultado global para el estado es un Índice de Desarrollo Humano (idh) de 0.712 en 2010, que es comparable\n",
    "con el nivel de desarrollo de países como Colombia y Túnez.\n",
    "\n",
    "En educación índice promedio estatal fue de **0.611** , los municipios con mayor índice de educación fueron:\n",
    "\n",
    "* Guanajuato **(0.727)**\n",
    "* Celaya **(0.704)**\n",
    "* Irapuato **(0.672)**\n",
    "\n",
    "y los de menor índice fueron:\n",
    "\n",
    "* Maneul Doblado **(0.458)**\n",
    "* Ocampo **(0.457)**\n",
    "* Xichú **(0.435)**\n",
    "\n",
    "De esta manera si comparamos las zonas marginadas a las que les fueron levantadas las encuestas el índice de educación resultó en **0.553**, por lo que se encuentran ligeramente por encima de los municipios con los menores índices de educación, pero por debajo del promedio estatal y muy por debajo de Guanajuato que es el municipio con mayor índice de educación y de desarrollo humano. \n"
   ]
  }
 ],
 "metadata": {
  "celltoolbar": "Slideshow",
  "kernelspec": {
   "display_name": "R",
   "language": "R",
   "name": "ir"
  },
  "language_info": {
   "codemirror_mode": "r",
   "file_extension": ".r",
   "mimetype": "text/x-r-source",
   "name": "R",
   "pygments_lexer": "r",
   "version": "3.6.1"
  }
 },
 "nbformat": 4,
 "nbformat_minor": 2
}
